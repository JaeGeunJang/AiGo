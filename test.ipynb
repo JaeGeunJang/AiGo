{
 "cells": [
  {
   "cell_type": "code",
   "execution_count": 2,
   "metadata": {},
   "outputs": [],
   "source": [
    "import heapq\n",
    "\n",
    "class SmallestInfiniteSet:\n",
    "\n",
    "    def __init__(self):\n",
    "        self.infineSet = [i for i in range (1, 1001)]\n",
    "        heapq.heapify(self.infineSet)\n",
    "\n",
    "    def popSmallest(self) -> int:\n",
    "        return heapq.heappop(self.infineSet)\n",
    "\n",
    "    def addBack(self, num: int) -> None:\n",
    "        if not num in self.infineSet:\n",
    "            heapq.heappush(self.infineSet, num)\n",
    "\n",
    "\n",
    "# Your SmallestInfiniteSet object will be instantiated and called as such:\n",
    "obj = SmallestInfiniteSet()\n",
    "param_1 = obj.popSmallest()\n",
    "obj.addBack(2)"
   ]
  },
  {
   "cell_type": "code",
   "execution_count": 8,
   "metadata": {},
   "outputs": [
    {
     "name": "stdout",
     "output_type": "stream",
     "text": [
      "{1, 2, 3, 4, 5}\n"
     ]
    }
   ],
   "source": [
    "a = set([1,2,3,4])\n",
    "a.add(5)\n",
    "a.add(5)\n",
    "print(a)"
   ]
  },
  {
   "cell_type": "code",
   "execution_count": 8,
   "metadata": {},
   "outputs": [
    {
     "name": "stdout",
     "output_type": "stream",
     "text": [
      "[True, True, False, True, False, False, False, False, False, False]\n"
     ]
    }
   ],
   "source": [
    "from itertools import combinations\n",
    "\n",
    "class Solution:\n",
    "    def countPairs(self, nums, target) -> int:\n",
    "        return [sum(a) < target for a in combinations(nums, 2)]\n",
    "nums = [-1,1,2,3,1]\n",
    "s = Solution()\n",
    "print(s.countPairs(nums, 2))"
   ]
  },
  {
   "cell_type": "code",
   "execution_count": 9,
   "metadata": {},
   "outputs": [
    {
     "name": "stdout",
     "output_type": "stream",
     "text": [
      "[(-1, 1), (-1, 2), (-1, 3), (-1, 1), (1, 2), (1, 3), (1, 1), (2, 3), (2, 1), (3, 1)]\n"
     ]
    }
   ],
   "source": [
    "print(list(combinations(nums, 2)))"
   ]
  }
 ],
 "metadata": {
  "kernelspec": {
   "display_name": "py37",
   "language": "python",
   "name": "python3"
  },
  "language_info": {
   "codemirror_mode": {
    "name": "ipython",
    "version": 3
   },
   "file_extension": ".py",
   "mimetype": "text/x-python",
   "name": "python",
   "nbconvert_exporter": "python",
   "pygments_lexer": "ipython3",
   "version": "3.10.14"
  }
 },
 "nbformat": 4,
 "nbformat_minor": 2
}
